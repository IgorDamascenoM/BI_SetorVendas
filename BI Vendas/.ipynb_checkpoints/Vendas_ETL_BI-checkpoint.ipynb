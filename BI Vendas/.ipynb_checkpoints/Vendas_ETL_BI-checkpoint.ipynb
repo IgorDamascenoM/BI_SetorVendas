{
 "cells": [
  {
   "cell_type": "code",
   "execution_count": 1,
   "id": "893bd21d",
   "metadata": {},
   "outputs": [],
   "source": [
    "import pandas as pd\n",
    "import matplotlib as mat\n",
    "import matplotlib.pyplot as plt\n",
    "import joblib \n",
    "import seaborn as sns\n",
    "import sklearn as sk"
   ]
  },
  {
   "cell_type": "code",
   "execution_count": null,
   "id": "cf981ce6",
   "metadata": {},
   "outputs": [],
   "source": [
    "df_vendas = pd.read_csv('dados_DM.csv', delimiter =',')"
   ]
  }
 ],
 "metadata": {
  "kernelspec": {
   "display_name": "Python 3 (ipykernel)",
   "language": "python",
   "name": "python3"
  },
  "language_info": {
   "codemirror_mode": {
    "name": "ipython",
    "version": 3
   },
   "file_extension": ".py",
   "mimetype": "text/x-python",
   "name": "python",
   "nbconvert_exporter": "python",
   "pygments_lexer": "ipython3",
   "version": "3.9.12"
  }
 },
 "nbformat": 4,
 "nbformat_minor": 5
}
